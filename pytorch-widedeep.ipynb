{
 "cells": [
  {
   "cell_type": "code",
   "execution_count": null,
   "id": "4483e216",
   "metadata": {
    "_cell_guid": "b1076dfc-b9ad-4769-8c92-a6c4dae69d19",
    "_uuid": "8f2839f25d086af736a60e9eeb907d3b93b6e0e5",
    "execution": {
     "iopub.execute_input": "2023-06-26T22:48:20.897513Z",
     "iopub.status.busy": "2023-06-26T22:48:20.897038Z",
     "iopub.status.idle": "2023-06-26T22:48:41.823774Z",
     "shell.execute_reply": "2023-06-26T22:48:41.821197Z"
    },
    "papermill": {
     "duration": 20.93988,
     "end_time": "2023-06-26T22:48:41.826466",
     "exception": false,
     "start_time": "2023-06-26T22:48:20.886586",
     "status": "completed"
    },
    "tags": []
   },
   "outputs": [],
   "source": [
    "import numpy as np \n",
    "import pandas as pd \n",
    "import os\n",
    "import datetime\n",
    "import seaborn as sns\n",
    "from tqdm.notebook import tqdm\n",
    "    \n",
    "\n",
    "import torch\n",
    "from pytorch_widedeep.preprocessing import WidePreprocessor, TabPreprocessor\n",
    "from pytorch_widedeep.training import Trainer\n",
    "from pytorch_widedeep.models import Wide, TabMlp, WideDeep,FTTransformer,TabTransformer,TabResnet, FTTransformer\n",
    "from pytorch_widedeep.metrics import Accuracy, Precision,F1Score,Recall\n",
    "from pytorch_widedeep.callbacks import EarlyStopping\n",
    "\n",
    "from sklearn.model_selection import train_test_split\n",
    "from sklearn.preprocessing import LabelEncoder,StandardScaler\n",
    "\n",
    "\n",
    "import matplotlib.pyplot as plt\n",
    "%matplotlib inline\n",
    "plt.style.use('fivethirtyeight')\n",
    "import plotly.express as px\n",
    "\n",
    "import warnings\n",
    "warnings.filterwarnings('ignore')\n",
    "import itertools"
   ]
  },
  {
   "cell_type": "code",
   "execution_count": null,
   "id": "6cf2a87e",
   "metadata": {
    "execution": {
     "iopub.execute_input": "2023-06-26T22:48:41.867282Z",
     "iopub.status.busy": "2023-06-26T22:48:41.866903Z",
     "iopub.status.idle": "2023-06-26T22:48:42.090063Z",
     "shell.execute_reply": "2023-06-26T22:48:42.088559Z"
    },
    "papermill": {
     "duration": 0.236504,
     "end_time": "2023-06-26T22:48:42.092654",
     "exception": false,
     "start_time": "2023-06-26T22:48:41.856150",
     "status": "completed"
    },
    "tags": []
   },
   "outputs": [],
   "source": [
    "original = pd.read_csv('./dataset.csv')\n",
    "original['recovery_class'] = pd.cut(original['recovery ratio'], bins=[-1, 0.5, 1.1], labels=[0, 1])\n",
    "original['recovery_class'].value_counts()\n",
    "#Check the shape of data\n",
    "print(f'The Whole dataset has {original.shape[0]} rows and {original.shape[1]} columns')"
   ]
  },
  {
   "cell_type": "code",
   "execution_count": null,
   "id": "3ddbec93",
   "metadata": {},
   "outputs": [],
   "source": [
    "def get_variable_types(dataframe):\n",
    "    continuous_vars = []\n",
    "    categorical_vars = []\n",
    "\n",
    "    for column in dataframe.columns:\n",
    "        if dataframe[column].dtype == 'object':\n",
    "            categorical_vars.append(column)\n",
    "        else:\n",
    "            continuous_vars.append(column)\n",
    "\n",
    "    return continuous_vars, categorical_vars\n",
    "\n",
    "continuous_vars, categorical_vars = get_variable_types(original)\n",
    "continuous_vars.remove('JOA')\n",
    "continuous_vars.remove('post JOA')\n",
    "continuous_vars.remove('recovery ratio')\n",
    "categorical_vars.remove('Case')\n",
    "categorical_vars.remove('whole cord at the max com level')"
   ]
  },
  {
   "cell_type": "code",
   "execution_count": null,
   "id": "ed940601",
   "metadata": {
    "execution": {
     "iopub.execute_input": "2023-06-26T22:48:54.368310Z",
     "iopub.status.busy": "2023-06-26T22:48:54.367929Z",
     "iopub.status.idle": "2023-06-26T22:48:54.416591Z",
     "shell.execute_reply": "2023-06-26T22:48:54.415026Z"
    },
    "papermill": {
     "duration": 0.066287,
     "end_time": "2023-06-26T22:48:54.419159",
     "exception": false,
     "start_time": "2023-06-26T22:48:54.352872",
     "status": "completed"
    },
    "tags": []
   },
   "outputs": [],
   "source": [
    "del_columns = []\n",
    "for columns_name in original.columns:\n",
    "    if 'Case' in columns_name:\n",
    "        del_columns.append(columns_name)\n",
    "    # elif 'JOA' in columns_name:\n",
    "    #     del_columns.append(columns_name)\n",
    "    elif 'QCL_' in columns_name:\n",
    "        del_columns.append(columns_name)\n",
    "    elif 'post JOA' in columns_name:\n",
    "        del_columns.append(columns_name)\n",
    "    elif 'recovery ratio' in columns_name:\n",
    "        del_columns.append(columns_name)\n",
    "    elif 'whole cord at the max com level' in columns_name:\n",
    "        del_columns.append(columns_name)\n",
    "    # elif 'MD' in columns_name:\n",
    "    #     del_columns.append(columns_name)\n",
    "    # elif 'AD' in columns_name:\n",
    "    #     del_columns.append(columns_name)\n",
    "    # elif 'RD' in columns_name:\n",
    "    #     del_columns.append(columns_name)\n",
    "print(del_columns)\n",
    "train = original.drop(del_columns, axis=1)"
   ]
  },
  {
   "cell_type": "code",
   "execution_count": null,
   "id": "07b4d0c9",
   "metadata": {},
   "outputs": [],
   "source": [
    "train = pd.get_dummies(train, columns=categorical_vars, drop_first=True)"
   ]
  },
  {
   "cell_type": "code",
   "execution_count": null,
   "id": "fed8c100",
   "metadata": {},
   "outputs": [],
   "source": [
    "#Let's check the Shape of data\n",
    "print(f'The encoded Train dataset has {train.shape[0]} rows and {train.shape[1]} columns')"
   ]
  },
  {
   "cell_type": "code",
   "execution_count": null,
   "id": "0728add2",
   "metadata": {},
   "outputs": [],
   "source": [
    "X = train.drop(['recovery_class'], axis=1)\n",
    "y = train['recovery_class']"
   ]
  },
  {
   "cell_type": "code",
   "execution_count": null,
   "id": "62d92053",
   "metadata": {},
   "outputs": [],
   "source": [
    "# Splitting the dataset into the Training set and Test set\n",
    "from sklearn.model_selection import train_test_split\n",
    "X_train_original, X_test, y_train_original, y_test = train_test_split(X, y, test_size = 0.2,stratify=y)"
   ]
  },
  {
   "cell_type": "code",
   "execution_count": null,
   "id": "5c298186",
   "metadata": {
    "execution": {
     "iopub.execute_input": "2023-06-26T22:48:54.478034Z",
     "iopub.status.busy": "2023-06-26T22:48:54.477063Z",
     "iopub.status.idle": "2023-06-26T22:48:54.482693Z",
     "shell.execute_reply": "2023-06-26T22:48:54.481364Z"
    },
    "papermill": {
     "duration": 0.022673,
     "end_time": "2023-06-26T22:48:54.484632",
     "exception": false,
     "start_time": "2023-06-26T22:48:54.461959",
     "status": "completed"
    },
    "tags": []
   },
   "outputs": [],
   "source": [
    "# Categorical columns\n",
    "cat_embed_cols = [\n",
    "    'Gender_M'\n",
    "]\n",
    "# Continous columns\n",
    "continuous_cols = list(X_train_original.columns[:-1])"
   ]
  },
  {
   "cell_type": "code",
   "execution_count": null,
   "id": "d8324ca4",
   "metadata": {
    "execution": {
     "iopub.execute_input": "2023-06-26T22:48:54.540357Z",
     "iopub.status.busy": "2023-06-26T22:48:54.539712Z",
     "iopub.status.idle": "2023-06-26T22:48:55.014563Z",
     "shell.execute_reply": "2023-06-26T22:48:55.012996Z"
    },
    "papermill": {
     "duration": 0.491615,
     "end_time": "2023-06-26T22:48:55.017004",
     "exception": false,
     "start_time": "2023-06-26T22:48:54.525389",
     "status": "completed"
    },
    "tags": []
   },
   "outputs": [],
   "source": [
    "# deeptabular\n",
    "tab_preprocessor = TabPreprocessor(\n",
    "    embed_cols=cat_embed_cols, continuous_cols=continuous_cols,\n",
    "    random_state=42,\n",
    "    cols_to_scale='all'\n",
    ")\n",
    "X_tab = tab_preprocessor.fit_transform(X_train_original)\n",
    "tab_preprocessor.cat_embed_input"
   ]
  },
  {
   "cell_type": "code",
   "execution_count": null,
   "id": "7f295954",
   "metadata": {
    "execution": {
     "iopub.execute_input": "2023-06-26T22:48:55.074658Z",
     "iopub.status.busy": "2023-06-26T22:48:55.074267Z",
     "iopub.status.idle": "2023-06-26T22:48:55.153714Z",
     "shell.execute_reply": "2023-06-26T22:48:55.152406Z"
    },
    "papermill": {
     "duration": 0.097479,
     "end_time": "2023-06-26T22:48:55.156481",
     "exception": false,
     "start_time": "2023-06-26T22:48:55.059002",
     "status": "completed"
    },
    "tags": []
   },
   "outputs": [],
   "source": [
    "# Model \n",
    "# tab_mlp = TabMlp(\n",
    "#     column_idx=tab_preprocessor.column_idx,\n",
    "#     cat_embed_input=tab_preprocessor.cat_embed_input,\n",
    "#     cat_embed_dropout=0.1,\n",
    "#     continuous_cols=continuous_cols,\n",
    "#     mlp_hidden_dims=[200,100],\n",
    "#     mlp_dropout=0.5,\n",
    "#     mlp_activation=\"leaky_relu\",\n",
    "# )\n",
    "# tabresnet = TabResnet(\n",
    "#     column_idx=tab_preprocessor.column_idx,\n",
    "#     cat_embed_input=tab_preprocessor.cat_embed_input, \n",
    "#     continuous_cols=continuous_cols,\n",
    "#     # cat_embed_activation = \"relu\",\n",
    "#     # cont_embed_activation = \"relu\",\n",
    "#     # mlp_activation = \"relu\",\n",
    "#     blocks_dims=[200, 100, 100, 100],\n",
    "#     mlp_hidden_dims=[100, 100, 50],\n",
    "# )\n",
    "fttransformer = FTTransformer(\n",
    "    column_idx=tab_preprocessor.column_idx,\n",
    "    cat_embed_input=tab_preprocessor.cat_embed_input, \n",
    "    continuous_cols=continuous_cols,\n",
    "    n_blocks = 4\n",
    ")\n",
    "\n",
    "tab_model = WideDeep(deeptabular=fttransformer,pred_dim=1,random=42)"
   ]
  },
  {
   "cell_type": "code",
   "execution_count": null,
   "id": "04e19927",
   "metadata": {
    "execution": {
     "iopub.execute_input": "2023-06-26T22:48:55.282760Z",
     "iopub.status.busy": "2023-06-26T22:48:55.282413Z",
     "iopub.status.idle": "2023-06-26T23:02:41.957008Z",
     "shell.execute_reply": "2023-06-26T23:02:41.955089Z"
    },
    "papermill": {
     "duration": 833.043914,
     "end_time": "2023-06-26T23:02:48.311291",
     "exception": false,
     "start_time": "2023-06-26T22:48:55.267377",
     "status": "completed"
    },
    "tags": []
   },
   "outputs": [],
   "source": [
    "tab_trainer = Trainer(\n",
    "    model=tab_model,\n",
    "    objective=\"binary\",\n",
    "    optimizers=torch.optim.Adam(tab_model.parameters(), lr=0.001),\n",
    "    metrics=[Accuracy, Precision,F1Score,Recall],\n",
    "    seed=42,\n",
    "    callbacks=[EarlyStopping(patience=5)]\n",
    ")\n",
    "tab_trainer.fit(X_tab=X_tab, target=np.array(y_train_original.values), n_epochs=20, batch_size=16, val_split=0.2)"
   ]
  },
  {
   "cell_type": "code",
   "execution_count": null,
   "id": "ce4ab199",
   "metadata": {},
   "outputs": [],
   "source": [
    "# validation performance\n",
    "tab_trainer.metric._metrics[0].correct_count/tab_trainer.metric._metrics[0].total_count"
   ]
  },
  {
   "cell_type": "code",
   "execution_count": null,
   "id": "94b64bfc",
   "metadata": {},
   "outputs": [],
   "source": [
    "from sklearn.metrics import roc_auc_score, accuracy_score,recall_score,precision_score,f1_score, roc_curve, auc\n",
    "from scipy import interpolate\n",
    "X_tab_te = tab_preprocessor.transform(X_test)\n",
    "preds_proba = tab_trainer.predict_proba(X_tab=X_tab_te)\n",
    "preds = tab_trainer.predict(X_tab=X_tab_te)\n",
    " \n",
    "fpr, tpr, thersholds = roc_curve(y_test, preds)\n",
    "linear_interpolator = interpolate.interp1d(fpr, tpr, kind='linear')\n",
    "fpr_new = np.linspace(0, 1, 100)\n",
    "tpr_new = linear_interpolator(fpr_new)\n",
    "roc_auc = auc(fpr_new, tpr_new)\n",
    "\n",
    "print(\"| accuracy | recall   | precision | f1_score | auc      |\\n\")\n",
    "print(\"| -------- | -------- | --------- | -------- | -------- |\\n\")\n",
    "print(\"| {:f} | {:f} | {:f} | {:f} | {:f}|\".format(accuracy_score(y_test, preds), \n",
    "                                                    recall_score(y_test, preds), \n",
    "                                                    precision_score(y_test, preds), \n",
    "                                                    f1_score(y_test, preds), \n",
    "                                                    auc(fpr_new, tpr_new)))\n",
    "\n",
    "pd.DataFrame(tpr_new).to_csv('./tpr.csv')"
   ]
  },
  {
   "cell_type": "code",
   "execution_count": null,
   "id": "27054797",
   "metadata": {},
   "outputs": [],
   "source": [
    "import captum\n",
    "\n",
    "# explain all the predictions in the test set\n",
    "X_tab_test = torch.from_numpy(X_tab_te).to(\"cuda\")\n",
    "background = X_tab[0:5]\n",
    "explainer = captum.attr.DeepLiftShap(tab_model.deeptabular.eval())\n",
    "shap_values = explainer.attribute(X_tab_test, baselines=torch.Tensor(background).to(\"cuda\"), target=0)\n",
    "pd_shap_values = pd.DataFrame(shap_values.detach().cpu().numpy()).apply(lambda x:abs(x)).mean(axis=0)\n",
    "\n",
    "shap_sum = np.abs(shap_values.detach().cpu().numpy()).mean(axis=0)\n",
    "\n",
    "importance_df = pd.DataFrame(np.expand_dims(shap_sum,axis=0),columns=tab_preprocessor.column_idx.keys())\n",
    "importance_df.to_csv(\"fttransformer_feature_importance.csv\")"
   ]
  }
 ],
 "metadata": {
  "kernelspec": {
   "display_name": "tabulate",
   "language": "python",
   "name": "python3"
  },
  "language_info": {
   "codemirror_mode": {
    "name": "ipython",
    "version": 3
   },
   "file_extension": ".py",
   "mimetype": "text/x-python",
   "name": "python",
   "nbconvert_exporter": "python",
   "pygments_lexer": "ipython3",
   "version": "3.10.14"
  },
  "papermill": {
   "default_parameters": {},
   "duration": 1166.690568,
   "end_time": "2023-06-26T23:07:16.587870",
   "environment_variables": {},
   "exception": null,
   "input_path": "__notebook__.ipynb",
   "output_path": "__notebook__.ipynb",
   "parameters": {},
   "start_time": "2023-06-26T22:47:49.897302",
   "version": "2.4.0"
  }
 },
 "nbformat": 4,
 "nbformat_minor": 5
}
